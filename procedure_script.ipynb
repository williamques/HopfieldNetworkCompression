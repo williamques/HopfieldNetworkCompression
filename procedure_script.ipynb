{
 "cells": [
  {
   "cell_type": "code",
   "execution_count": 2,
   "metadata": {},
   "outputs": [],
   "source": [
    "# C:\\Users\\Joshoua\\Pictures\\Panasonic\n",
    "# get 20 images from the above folder and convert them to greyscale, save them under the order they were processed in the png images folder\n",
    "import os\n",
    "import cv2\n",
    "import random\n",
    "\n",
    "def process_images(source_folder, destination_folder, num_images=20):\n",
    "    # Create the destination folder if it doesn't exist\n",
    "    if not os.path.exists(destination_folder):\n",
    "        os.makedirs(destination_folder)\n",
    "\n",
    "    # Initialize counter for naming images\n",
    "    image_counter = 1\n",
    "\n",
    "    # List to store file paths of images\n",
    "    image_paths = []\n",
    "\n",
    "    # Traverse through the source folder and its subfolders\n",
    "    for root, dirs, files in os.walk(source_folder):\n",
    "        for filename in files:\n",
    "            # Check if the file is an image\n",
    "            if filename.lower().endswith(('.png', '.jpg', '.jpeg', '.gif', '.bmp')):\n",
    "                image_paths.append(os.path.join(root, filename))\n",
    "\n",
    "    # Shuffle the list of image paths\n",
    "    random.shuffle(image_paths)\n",
    "\n",
    "    # Process each image\n",
    "    for image_path in image_paths[:num_images]:\n",
    "        # Read the image\n",
    "        image = cv2.imread(image_path)\n",
    "\n",
    "        # Convert the image to grayscale\n",
    "        gray_image = cv2.cvtColor(image, cv2.COLOR_BGR2GRAY)\n",
    "\n",
    "        # Generate the destination file path\n",
    "        destination_path = os.path.join(destination_folder, f\"{image_counter}.png\")\n",
    "\n",
    "        # Write the grayscale image to the destination folder\n",
    "        cv2.imwrite(destination_path, gray_image)\n",
    "\n",
    "        # Increment the image counter\n",
    "        image_counter += 1\n",
    "\n",
    "        # Break if reached the desired number of images\n",
    "        if image_counter > num_images:\n",
    "            break"
   ]
  },
  {
   "cell_type": "code",
   "execution_count": 3,
   "metadata": {},
   "outputs": [],
   "source": [
    "import numpy as np\n",
    "\n",
    "# fet array of binary vectors from random patches of n*n pixels from images in the specified folder\n",
    "def get_patterns_from_images(images_folder, patch_size, N_Patterns):\n",
    "    binary_vectors = []\n",
    "\n",
    "    # Get the list of images in the images folder\n",
    "    image_files = os.listdir(images_folder)\n",
    "\n",
    "    # Load all images into memory\n",
    "    images = [cv2.imread(os.path.join(images_folder, image_file), cv2.IMREAD_GRAYSCALE) for image_file in image_files]\n",
    "\n",
    "    for _ in range(N_Patterns):\n",
    "        # Randomly select an image from the loaded images\n",
    "        image = random.choice(images)\n",
    "\n",
    "        # Get image dimensions\n",
    "        height, width = image.shape\n",
    "\n",
    "        # Randomly select the top-left corner of the patch\n",
    "        start_x = random.randint(0, width - patch_size)\n",
    "        start_y = random.randint(0, height - patch_size)\n",
    "\n",
    "        # Extract the patch\n",
    "        patch = image[start_y:start_y+patch_size, start_x:start_x+patch_size]\n",
    "\n",
    "        # Convert each value in the patch to an 8-bit binary representation\n",
    "        binary_patch = np.unpackbits(patch.astype(np.uint8))\n",
    "\n",
    "        # Flatten the binary patch into a 1D array to create a binary vector\n",
    "        binary_vector = binary_patch.flatten()\n",
    "\n",
    "        # Store the binary vector in the list\n",
    "        binary_vectors.append(binary_vector)\n",
    "\n",
    "    return binary_vectors"
   ]
  },
  {
   "cell_type": "code",
   "execution_count": 64,
   "metadata": {},
   "outputs": [],
   "source": [
    "def image_to_binary_vectors(image_path, patch_size):\n",
    "    binary_vectors = []\n",
    "\n",
    "    image = cv2.imread(image_path, cv2.IMREAD_GRAYSCALE)\n",
    "\n",
    "    height, width = image.shape\n",
    "\n",
    "    for y in range(0, height, patch_size):\n",
    "        for x in range(0, width, patch_size):\n",
    "            # Extract the patch\n",
    "            patch = image[y:y+patch_size, x:x+patch_size]\n",
    "\n",
    "            # Convert pixel values to binary representation\n",
    "            binary_patch = np.unpackbits(patch)\n",
    "\n",
    "            # Append the binary patch to the list of binary vectors\n",
    "            binary_vectors.append(binary_patch)\n",
    "\n",
    "    return binary_vectors"
   ]
  },
  {
   "cell_type": "code",
   "execution_count": 4,
   "metadata": {},
   "outputs": [],
   "source": [
    "def create_image_from_patterns(width, height, patch_size, patterns):\n",
    "    # Calculate the number of patches per row and column\n",
    "    num_patches_x = width // patch_size\n",
    "    num_patches_y = height // patch_size\n",
    "\n",
    "    # Calculate the total number of patches\n",
    "    total_patches = num_patches_x * num_patches_y\n",
    "\n",
    "    # Check if the number of binary vectors matches the number of patches\n",
    "    if len(patterns) != total_patches:\n",
    "        print(\"Error: Number of binary vectors does not match the number of patches.\")\n",
    "        return None\n",
    "\n",
    "    # Create an empty image\n",
    "    image = np.zeros((height, width), dtype=np.uint8)\n",
    "\n",
    "    # Iterate over each patch and fill it with the corresponding binary vector\n",
    "    for i in range(num_patches_y):\n",
    "        for j in range(num_patches_x):\n",
    "            # Calculate the start and end indices for the binary vector\n",
    "            pixelIndex = (i*num_patches_x) + j\n",
    "\n",
    "            # Extract the binary vector for the patch\n",
    "            patch_binary_vector = patterns[pixelIndex]\n",
    "\n",
    "            # Reshape the binary vector to match the patch size\n",
    "            patch_binary_vector = patch_binary_vector.reshape((patch_size*patch_size, 8))\n",
    "            patch_binary_vector = np.packbits(patch_binary_vector)\n",
    "            patch_binary_vector = patch_binary_vector.reshape((patch_size,patch_size))\n",
    "            \n",
    "            # Calculate the top-left corner coordinates of the patch\n",
    "            x = j * patch_size\n",
    "            y = i * patch_size\n",
    "\n",
    "            # Fill the patch in the image with the binary values\n",
    "            image[y:y+patch_size, x:x+patch_size] = patch_binary_vector\n",
    "\n",
    "    # Show the image\n",
    "\n",
    "    cv2.imwrite(\"./output/test.png\", image)\n",
    "\n",
    "    return image\n"
   ]
  },
  {
   "cell_type": "code",
   "execution_count": 5,
   "metadata": {},
   "outputs": [],
   "source": [
    "def imprint_patterns(weightMatrix, patterns):\n",
    "    n = len(weightMatrix)\n",
    "    for p in range(len(patterns)):\n",
    "        for i in range(n):\n",
    "            for j in range(n):\n",
    "                if i != j:\n",
    "                    weightMatrix[i, j] += (2 / n) * (patterns[p][i] * 2 - 1) * (patterns[p][j] * 2 - 1)\n",
    "    return weightMatrix\n",
    "\n",
    "def predict(weightMatrix, patternArray, max_iterations=100):\n",
    "    n = len(weightMatrix)\n",
    "    predicted_patterns = []\n",
    "    \n",
    "    for input_pattern in patternArray:\n",
    "        for _ in range(max_iterations):\n",
    "            old_pattern = input_pattern.copy()\n",
    "            for i in range(n):\n",
    "                hi = np.dot(weightMatrix[i], input_pattern)\n",
    "                input_pattern[i] = 0 if hi < 0 else 1  # Change thresholding here\n",
    "            if np.array_equal(input_pattern, old_pattern):\n",
    "                break\n",
    "        predicted_patterns.append(input_pattern)\n",
    "    return np.array(predicted_patterns)"
   ]
  },
  {
   "cell_type": "code",
   "execution_count": null,
   "metadata": {},
   "outputs": [],
   "source": [
    "# define paramaters\n",
    "images_folder = \"./pgm images\"\n",
    "patch_size = 4\n",
    "N_Patterns = 4096\n",
    "\n",
    "# Define the initial weight matrix\n",
    "num_neurons = patch_size * patch_size * 8\n",
    "initial_weightMatrix = np.zeros((num_neurons, num_neurons))\n",
    "\n",
    "# Define some patterns\n",
    "patterns = get_patterns_from_images(images_folder, patch_size, N_Patterns) # Patterns as binary arrays of 0s and 1s"
   ]
  },
  {
   "cell_type": "code",
   "execution_count": 58,
   "metadata": {},
   "outputs": [
    {
     "name": "stdout",
     "output_type": "stream",
     "text": [
      "[[ 0.       -4.859375  6.015625 ...  9.140625 11.109375 12.453125]\n",
      " [-4.859375  0.        0.984375 ... 10.796875  7.328125  9.296875]\n",
      " [ 6.015625  0.984375  0.       ...  9.109375  9.578125  6.859375]\n",
      " ...\n",
      " [ 9.125    10.8125    9.125    ...  0.        7.65625   7.625   ]\n",
      " [11.125     7.3125    9.5625   ...  7.65625   0.        9.375   ]\n",
      " [12.46875   9.28125   6.84375  ...  7.625     9.375     0.      ]]\n"
     ]
    }
   ],
   "source": [
    "\n",
    "# Imprint the patterns onto the weight matrix\n",
    "weightMatrix = imprint_patterns(initial_weightMatrix, patterns)\n",
    "print(weightMatrix)"
   ]
  },
  {
   "cell_type": "code",
   "execution_count": 63,
   "metadata": {},
   "outputs": [
    {
     "name": "stdout",
     "output_type": "stream",
     "text": [
      "(10, 128)\n",
      "[1 1 1 1 1 1 1 1 1 1 1 1 1 1 1 1 1 1 1 1 1 1 1 1 1 1 1 1 1 1 1 1 1 1 1 1 1\n",
      " 1 1 1 1 1 1 1 1 1 1 1 1 1 1 1 1 1 1 1 1 1 1 1 1 1 1 1 1 1 1 1 1 1 1 1 1 1\n",
      " 1 1 1 1 1 1 1 1 1 1 1 1 1 1 1 1 1 1 1 1 1 1 1 1 1 1 1 1 1 1 1 1 1 1 1 1 1\n",
      " 1 1 1 1 1 1 1 1 1 1 1 1 1 1 1 1 1]\n",
      "[1 1 1 1 1 1 1 1 1 1 1 1 1 1 1 1 1 1 1 1 1 1 1 1 1 1 1 1 1 1 1 1 1 1 1 1 1\n",
      " 1 1 1 1 1 1 1 1 1 1 1 1 1 1 1 1 1 1 1 1 1 1 1 1 1 1 1 1 1 1 1 1 1 1 1 1 1\n",
      " 1 1 1 1 1 1 1 1 1 1 1 1 1 1 1 1 1 1 1 1 1 1 1 1 1 1 1 1 1 1 1 1 1 1 1 1 1\n",
      " 1 1 1 1 1 1 1 1 1 1 1 1 1 1 1 1 1]\n",
      "[1 1 1 1 1 1 1 1 1 1 1 1 1 1 1 1 1 1 1 1 1 1 1 1 1 1 1 1 1 1 1 1 1 1 1 1 1\n",
      " 1 1 1 1 1 1 1 1 1 1 1 1 1 1 1 1 1 1 1 1 1 1 1 1 1 1 1 1 1 1 1 1 1 1 1 1 1\n",
      " 1 1 1 1 1 1 1 1 1 1 1 1 1 1 1 1 1 1 1 1 1 1 1 1 1 1 1 1 1 1 1 1 1 1 1 1 1\n",
      " 1 1 1 1 1 1 1 1 1 1 1 1 1 1 1 1 1]\n",
      "[1 1 1 1 1 1 1 1 1 1 1 1 1 1 1 1 1 1 1 1 1 1 1 1 1 1 1 1 1 1 1 1 1 1 1 1 1\n",
      " 1 1 1 1 1 1 1 1 1 1 1 1 1 1 1 1 1 1 1 1 1 1 1 1 1 1 1 1 1 1 1 1 1 1 1 1 1\n",
      " 1 1 1 1 1 1 1 1 1 1 1 1 1 1 1 1 1 1 1 1 1 1 1 1 1 1 1 1 1 1 1 1 1 1 1 1 1\n",
      " 1 1 1 1 1 1 1 1 1 1 1 1 1 1 1 1 1]\n",
      "[1 1 1 1 1 1 1 1 1 1 1 1 1 1 1 1 1 1 1 1 1 1 1 1 1 1 1 1 1 1 1 1 1 1 1 1 1\n",
      " 1 1 1 1 1 1 1 1 1 1 1 1 1 1 1 1 1 1 1 1 1 1 1 1 1 1 1 1 1 1 1 1 1 1 1 1 1\n",
      " 1 1 1 1 1 1 1 1 1 1 1 1 1 1 1 1 1 1 1 1 1 1 1 1 1 1 1 1 1 1 1 1 1 1 1 1 1\n",
      " 1 1 1 1 1 1 1 1 1 1 1 1 1 1 1 1 1]\n",
      "[1 1 1 1 1 1 1 1 1 1 1 1 1 1 1 1 1 1 1 1 1 1 1 1 1 1 1 1 1 1 1 1 1 1 1 1 1\n",
      " 1 1 1 1 1 1 1 1 1 1 1 1 1 1 1 1 1 1 1 1 1 1 1 1 1 1 1 1 1 1 1 1 1 1 1 1 1\n",
      " 1 1 1 1 1 1 1 1 1 1 1 1 1 1 1 1 1 1 1 1 1 1 1 1 1 1 1 1 1 1 1 1 1 1 1 1 1\n",
      " 1 1 1 1 1 1 1 1 1 1 1 1 1 1 1 1 1]\n",
      "[1 1 1 1 1 1 1 1 1 1 1 1 1 1 1 1 1 1 1 1 1 1 1 1 1 1 1 1 1 1 1 1 1 1 1 1 1\n",
      " 1 1 1 1 1 1 1 1 1 1 1 1 1 1 1 1 1 1 1 1 1 1 1 1 1 1 1 1 1 1 1 1 1 1 1 1 1\n",
      " 1 1 1 1 1 1 1 1 1 1 1 1 1 1 1 1 1 1 1 1 1 1 1 1 1 1 1 1 1 1 1 1 1 1 1 1 1\n",
      " 1 1 1 1 1 1 1 1 1 1 1 1 1 1 1 1 1]\n",
      "[1 1 1 1 1 1 1 1 1 1 1 1 1 1 1 1 1 1 1 1 1 1 1 1 1 1 1 1 1 1 1 1 1 1 1 1 1\n",
      " 1 1 1 1 1 1 1 1 1 1 1 1 1 1 1 1 1 1 1 1 1 1 1 1 1 1 1 1 1 1 1 1 1 1 1 1 1\n",
      " 1 1 1 1 1 1 1 1 1 1 1 1 1 1 1 1 1 1 1 1 1 1 1 1 1 1 1 1 1 1 1 1 1 1 1 1 1\n",
      " 1 1 1 1 1 1 1 1 1 1 1 1 1 1 1 1 1]\n",
      "[1 1 1 1 1 1 1 1 1 1 1 1 1 1 1 1 1 1 1 1 1 1 1 1 1 1 1 1 1 1 1 1 1 1 1 1 1\n",
      " 1 1 1 1 1 1 1 1 1 1 1 1 1 1 1 1 1 1 1 1 1 1 1 1 1 1 1 1 1 1 1 1 1 1 1 1 1\n",
      " 1 1 1 1 1 1 1 1 1 1 1 1 1 1 1 1 1 1 1 1 1 1 1 1 1 1 1 1 1 1 1 1 1 1 1 1 1\n",
      " 1 1 1 1 1 1 1 1 1 1 1 1 1 1 1 1 1]\n",
      "[1 1 1 1 1 1 1 1 1 1 1 1 1 1 1 1 1 1 1 1 1 1 1 1 1 1 1 1 1 1 1 1 1 1 1 1 1\n",
      " 1 1 1 1 1 1 1 1 1 1 1 1 1 1 1 1 1 1 1 1 1 1 1 1 1 1 1 1 1 1 1 1 1 1 1 1 1\n",
      " 1 1 1 1 1 1 1 1 1 1 1 1 1 1 1 1 1 1 1 1 1 1 1 1 1 1 1 1 1 1 1 1 1 1 1 1 1\n",
      " 1 1 1 1 1 1 1 1 1 1 1 1 1 1 1 1 1]\n"
     ]
    },
    {
     "data": {
      "text/plain": [
       "[None, None, None, None, None, None, None, None, None, None]"
      ]
     },
     "execution_count": 63,
     "metadata": {},
     "output_type": "execute_result"
    }
   ],
   "source": [
    "# Test the network with an array of noisy/corrupted patterns\n",
    "noisy_patterns = image_to_binary_vectors(\"128x128 expanded pgm images\\expanded_128x128_image1.pgm\",4) # 10 patterns as binary array of 0s and 1s from list of input patterns\n",
    "\n",
    "print(np.shape(noisy_patterns))\n",
    "\n",
    "predicted_patterns = predict(weightMatrix, noisy_patterns)\n",
    "\n",
    "[print(i) for i in predicted_patterns]"
   ]
  },
  {
   "cell_type": "code",
   "execution_count": 60,
   "metadata": {},
   "outputs": [
    {
     "name": "stdout",
     "output_type": "stream",
     "text": [
      "Error: Number of binary vectors does not match the number of patches.\n"
     ]
    },
    {
     "ename": "AttributeError",
     "evalue": "'NoneType' object has no attribute 'imshow'",
     "output_type": "error",
     "traceback": [
      "\u001b[1;31m---------------------------------------------------------------------------\u001b[0m",
      "\u001b[1;31mAttributeError\u001b[0m                            Traceback (most recent call last)",
      "Cell \u001b[1;32mIn[60], line 3\u001b[0m\n\u001b[0;32m      1\u001b[0m reconstruction \u001b[38;5;241m=\u001b[39m create_image_from_patterns(\u001b[38;5;241m256\u001b[39m,\u001b[38;5;241m256\u001b[39m,patch_size,predicted_patterns)\n\u001b[1;32m----> 3\u001b[0m \u001b[43mreconstruction\u001b[49m\u001b[38;5;241;43m.\u001b[39;49m\u001b[43mimshow\u001b[49m()\n",
      "\u001b[1;31mAttributeError\u001b[0m: 'NoneType' object has no attribute 'imshow'"
     ]
    }
   ],
   "source": [
    "reconstruction = create_image_from_patterns(256,256,patch_size,predicted_patterns)\n",
    "\n",
    "reconstruction.imshow()"
   ]
  }
 ],
 "metadata": {
  "kernelspec": {
   "display_name": "Python 3",
   "language": "python",
   "name": "python3"
  },
  "language_info": {
   "codemirror_mode": {
    "name": "ipython",
    "version": 3
   },
   "file_extension": ".py",
   "mimetype": "text/x-python",
   "name": "python",
   "nbconvert_exporter": "python",
   "pygments_lexer": "ipython3",
   "version": "3.12.3"
  }
 },
 "nbformat": 4,
 "nbformat_minor": 2
}
