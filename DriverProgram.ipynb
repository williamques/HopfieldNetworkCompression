{
 "cells": [
  {
   "cell_type": "code",
   "execution_count": 29,
   "id": "88081fc9",
   "metadata": {},
   "outputs": [
    {
     "name": "stdout",
     "output_type": "stream",
     "text": [
      "[[ 0.   0.5 -0.5 -1.5]\n",
      " [ 0.5  0.  -1.5 -0.5]\n",
      " [-0.5 -1.5  0.   0.5]\n",
      " [-1.5 -0.5  0.5  0. ]]\n",
      "Predicted Pattern: [[1 1 0 0]\n",
      " [0 0 1 1]]\n"
     ]
    }
   ],
   "source": [
    "import numpy as np\n",
    "\n",
    "def imprint_patterns(weightMatrix, patterns):\n",
    "    n = len(weightMatrix)\n",
    "    for p in range(len(patterns)):\n",
    "        for i in range(n):\n",
    "            for j in range(n):\n",
    "                if i != j:\n",
    "                    weightMatrix[i, j] += (2 / n) * (patterns[p][i] * 2 - 1) * (patterns[p][j] * 2 - 1)\n",
    "    return weightMatrix\n",
    "\n",
    "def predict(weightMatrix, patternArray, max_iterations=100):\n",
    "    n = len(weightMatrix)\n",
    "    predicted_patterns = []\n",
    "    \n",
    "    for input_pattern in patternArray:\n",
    "        for _ in range(max_iterations):\n",
    "            old_pattern = input_pattern.copy()\n",
    "            for i in range(n):\n",
    "                hi = np.dot(weightMatrix[i], input_pattern)\n",
    "                input_pattern[i] = 0 if hi < 0 else 1  # Change thresholding here\n",
    "            if np.array_equal(input_pattern, old_pattern):\n",
    "                break\n",
    "        predicted_patterns.append(input_pattern)\n",
    "    return np.array(predicted_patterns)\n",
    "\n",
    "# Example usage\n",
    "if __name__ == \"__main__\":\n",
    "    # Define the initial weight matrix\n",
    "    num_neurons = 4\n",
    "    initial_weightMatrix = np.zeros((num_neurons, num_neurons))\n",
    "\n",
    "    # Define some patterns\n",
    "    patterns = [[1, 1, 0, 0], [0, 0, 1, 1], [1, 0, 1, 0]]  # Patterns as binary arrays of 0s and 1s\n",
    "\n",
    "    # Imprint the patterns onto the weight matrix\n",
    "    weightMatrix = imprint_patterns(initial_weightMatrix, patterns)\n",
    "    print(weightMatrix)\n",
    "\n",
    "    # Test the network with a noisy pattern\n",
    "    noisy_pattern = [[1, 1, 1, 0], [1,1,1,1]]  # Noisy pattern as binary array of 0s and 1s\n",
    "    predicted_pattern = predict(weightMatrix, noisy_pattern)\n",
    "    print(\"Predicted Pattern:\", predicted_pattern)\n"
   ]
  },
  {
   "cell_type": "code",
   "execution_count": 2,
   "id": "790826bd",
   "metadata": {},
   "outputs": [],
   "source": []
  },
  {
   "cell_type": "code",
   "execution_count": null,
   "id": "4a0e84aa",
   "metadata": {},
   "outputs": [],
   "source": []
  }
 ],
 "metadata": {
  "kernelspec": {
   "display_name": "Python 3 (ipykernel)",
   "language": "python",
   "name": "python3"
  },
  "language_info": {
   "codemirror_mode": {
    "name": "ipython",
    "version": 3
   },
   "file_extension": ".py",
   "mimetype": "text/x-python",
   "name": "python",
   "nbconvert_exporter": "python",
   "pygments_lexer": "ipython3",
   "version": "3.11.5"
  }
 },
 "nbformat": 4,
 "nbformat_minor": 5
}
