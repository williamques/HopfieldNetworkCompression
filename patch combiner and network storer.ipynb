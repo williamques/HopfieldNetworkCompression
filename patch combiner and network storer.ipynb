{
 "cells": [
  {
   "cell_type": "code",
   "execution_count": null,
   "metadata": {},
   "outputs": [],
   "source": [
    "#These are the functions to load and store the hopfield network\n",
    "\n",
    "import pickle\n",
    "\n",
    "def save_network(network, fileName):\n",
    "    with open(fileName, 'wb') as file:\n",
    "        pickle.dump(network, file)\n",
    "\n",
    "def load_network(fileName):\n",
    "    with open(fileName, 'rb') as file:\n",
    "        network = pickle.load(file)\n",
    "    return network"
   ]
  },
  {
   "cell_type": "code",
   "execution_count": null,
   "metadata": {},
   "outputs": [],
   "source": [
    "#Here are the functions to convert a pgm to and from the binary batch vectors, as well as the functions to read and write pgm files\n",
    "import numpy as np\n",
    "\n",
    "def read_pgm(fileName):\n",
    "    with open(fileName, 'rb') as f:\n",
    "        header = f.readline()\n",
    "        width, height = map(int, f.readline().split())\n",
    "        maxVal = int(f.readline().strip())\n",
    "        imageData = []\n",
    "        for _ in range(height):\n",
    "            row = []\n",
    "            for _ in range(width):\n",
    "                row.append(int.from_bytes(f.read(1), 'big'))\n",
    "            imageData.append(row)\n",
    "    return width, height, maxVal, imageData\n",
    "\n",
    "def write_pgm(fileName, width, height, maxVal, imageData):\n",
    "    with open(fileName, 'wb') as f:\n",
    "        f.write(b'P5\\n')\n",
    "        f.write(f\"{width} {height}\\n\".encode())\n",
    "        f.write(f\"{maxVal}\\n\".encode())\n",
    "        for row in imageData:\n",
    "            for pixel in row:\n",
    "                f.write(bytes([pixel]))\n",
    "\n",
    "#This is the function to convert the binary vectors into a pgm file\n",
    "def save_pgm_from_binary_vectors(binaryVectors, fileName):\n",
    "    pixelValues = [int(''.join(map(str, pixel.flatten())), 2) for patch in binaryVectors for pixel in patch]\n",
    "\n",
    "    imageArray = np.array(pixelValues).reshape(256, 256)\n",
    "\n",
    "    write_pgm(fileName, 256, 256, 255, imageArray.tolist())\n",
    "\n",
    "#Thisi s a function to convert a pgm into the binary vectors\n",
    "def pgm_to_binary_vectors(fileName):\n",
    "    width, height, max_val, imageData = read_pgm(fileName)\n",
    "\n",
    "    binaryVectors = []\n",
    "    for row in imageData:\n",
    "        for value in row:\n",
    "            binaryVector = np.array([int(bit) for bit in format(value, '08b')])\n",
    "            binaryVectors.append(binaryVector)\n",
    "\n",
    "    # Split binary vectors into patches of 4 pixels\n",
    "    patches = [binaryVectors[i:i+4] for i in range(0, len(binaryVectors), 4)]\n",
    "\n",
    "    return patches\n",
    "\n",
    "#This is how I ran and tested it\n",
    "binaryVectors = pgm_to_binary_vectors(\"image15.pgm\")\n",
    "\n",
    "for i, patch in enumerate(binaryVectors):\n",
    "    print(f\"Patch {i + 1}: {patch}\")\n",
    "\n",
    "save_pgm_from_binary_vectors(binaryVectors, \"output_image.pgm\")\n"
   ]
  }
 ],
 "metadata": {
  "kernelspec": {
   "display_name": "Python 3",
   "language": "python",
   "name": "python3"
  },
  "language_info": {
   "codemirror_mode": {
    "name": "ipython",
    "version": 3
   },
   "file_extension": ".py",
   "mimetype": "text/x-python",
   "name": "python",
   "nbconvert_exporter": "python",
   "pygments_lexer": "ipython3",
   "version": "3.11.9"
  }
 },
 "nbformat": 4,
 "nbformat_minor": 2
}
