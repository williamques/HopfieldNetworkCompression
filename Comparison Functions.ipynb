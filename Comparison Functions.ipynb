{
 "cells": [
  {
   "cell_type": "code",
   "execution_count": 1,
   "metadata": {},
   "outputs": [
    {
     "name": "stdout",
     "output_type": "stream",
     "text": [
      "PNG image converted to PGM successfully.\n",
      "Percentage of matching pixels between PNG-converted PGM and original PGM: 100.0\n"
     ]
    }
   ],
   "source": [
    "import cv2\n",
    "\n",
    "def png_to_pgm(png_file):\n",
    "    img = cv2.imread(png_file, cv2.IMREAD_GRAYSCALE)\n",
    "    return img\n",
    "\n",
    "def compare_pgm_files(pgm_img1, pgm_file2):\n",
    "    img2 = cv2.imread(pgm_file2, cv2.IMREAD_GRAYSCALE)\n",
    "\n",
    "    matching_pixels = 0\n",
    "    total_pixels = pgm_img1.shape[0] * pgm_img1.shape[1]\n",
    "\n",
    "    for i in range(pgm_img1.shape[0]):\n",
    "        for j in range(pgm_img1.shape[1]):\n",
    "            if pgm_img1[i, j] == img2[i, j]:\n",
    "                matching_pixels += 1\n",
    "\n",
    "    matching_percentage = (matching_pixels / total_pixels) * 100\n",
    "\n",
    "    return matching_percentage\n",
    "\n",
    "png_file = \"./png images/image1.png\"\n",
    "pgm_file = \"./pgm images/image1.pgm\"\n",
    "\n",
    "pgm_img = png_to_pgm(png_file)\n",
    "\n",
    "matching_percentage = compare_pgm_files(pgm_img, pgm_file)\n",
    "print(\"Percentage of matching pixels between PNG-converted PGM and original PGM:\", matching_percentage)"
   ]
  }
 ],
 "metadata": {
  "kernelspec": {
   "display_name": "Python 3",
   "language": "python",
   "name": "python3"
  },
  "language_info": {
   "codemirror_mode": {
    "name": "ipython",
    "version": 3
   },
   "file_extension": ".py",
   "mimetype": "text/x-python",
   "name": "python",
   "nbconvert_exporter": "python",
   "pygments_lexer": "ipython3",
   "version": "3.11.9"
  }
 },
 "nbformat": 4,
 "nbformat_minor": 2
}
