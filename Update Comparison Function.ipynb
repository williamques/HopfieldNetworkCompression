{
 "cells": [
  {
   "cell_type": "code",
   "execution_count": 3,
   "metadata": {},
   "outputs": [
    {
     "name": "stdout",
     "output_type": "stream",
     "text": [
      "Mean absolute difference in pixel intensities: 10.285400390625\n"
     ]
    }
   ],
   "source": [
    "import cv2\n",
    "import numpy as np\n",
    "\n",
    "def compare_images(image1, image2):\n",
    "    image_array1 = cv2.imread(image1, cv2.IMREAD_GRAYSCALE)\n",
    "    image_array2 = cv2.imread(image2, cv2.IMREAD_GRAYSCALE)\n",
    "\n",
    "    if image_array1.shape != image_array2.shape:\n",
    "        print(\"Error: different dimensions\")\n",
    "        return None\n",
    "\n",
    "    abs_diff = np.abs(image_array1 - image_array2)\n",
    "\n",
    "    matching_percentage = np.mean(abs_diff)\n",
    "\n",
    "    return matching_percentage\n",
    "\n",
    "# Example usage:\n",
    "file1 = \"./png images/image1.png\"\n",
    "file2 = \"./pgm images/image1.pgm\"\n",
    "\n",
    "matching_percentage = compare_images(file1, file2)\n",
    "print(\"Mean absolute difference in pixel intensities:\", matching_percentage)\n"
   ]
  }
 ],
 "metadata": {
  "kernelspec": {
   "display_name": "Python 3",
   "language": "python",
   "name": "python3"
  },
  "language_info": {
   "codemirror_mode": {
    "name": "ipython",
    "version": 3
   },
   "file_extension": ".py",
   "mimetype": "text/x-python",
   "name": "python",
   "nbconvert_exporter": "python",
   "pygments_lexer": "ipython3",
   "version": "3.11.9"
  }
 },
 "nbformat": 4,
 "nbformat_minor": 2
}
